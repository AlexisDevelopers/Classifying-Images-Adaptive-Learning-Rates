{
  "cells": [
    {
      "attachments": {},
      "cell_type": "markdown",
      "metadata": {
        "id": "JEVBYehgmZsb"
      },
      "source": [
        "# Classifying images with Adaptive Learning Rates."
      ]
    },
    {
      "attachments": {},
      "cell_type": "markdown",
      "metadata": {
        "id": "BSDnXQxDmwYR"
      },
      "source": [
        "Design of a Convolutional Neural Network (CNN) trained to classify the digits of the MNIST dataset using the following Learning Rate planning strategies.\n",
        "\n",
        "1.   Constant Learning Rate.\n",
        "2.   Learning Rate Step-Decay.\n",
        "3.   Cyclic Learning Rate.\n",
        "\n",
        "Visualization in a graph of the evolution of the validation loss for the three models."
      ]
    },
    {
      "cell_type": "code",
      "execution_count": null,
      "metadata": {
        "colab": {
          "base_uri": "https://localhost:8080/"
        },
        "id": "ZCoZCT6tzGev",
        "outputId": "814ee674-9f24-450f-8cf6-6b5f3194844c"
      },
      "outputs": [
        {
          "name": "stdout",
          "output_type": "stream",
          "text": [
            "\u001b[?25l     \u001b[90m━━━━━━━━━━━━━━━━━━━━━━━━━━━━━━━━━━━━━━━━\u001b[0m \u001b[32m0.0/1.1 MB\u001b[0m \u001b[31m?\u001b[0m eta \u001b[36m-:--:--\u001b[0m\r\u001b[2K     \u001b[91m━━━━━━━━━━━━━━━━━━━━━━━━━━━━━━━━━━━━━━━\u001b[0m\u001b[91m╸\u001b[0m \u001b[32m1.1/1.1 MB\u001b[0m \u001b[31m38.0 MB/s\u001b[0m eta \u001b[36m0:00:01\u001b[0m\r\u001b[2K     \u001b[90m━━━━━━━━━━━━━━━━━━━━━━━━━━━━━━━━━━━━━━━━\u001b[0m \u001b[32m1.1/1.1 MB\u001b[0m \u001b[31m18.6 MB/s\u001b[0m eta \u001b[36m0:00:00\u001b[0m\n",
            "\u001b[?25h"
          ]
        }
      ],
      "source": [
        "!pip install -q -U tensorflow_addons"
      ]
    },
    {
      "cell_type": "code",
      "execution_count": null,
      "metadata": {
        "id": "x8xRLHtCNFa0"
      },
      "outputs": [],
      "source": [
        "# We import the necessary libraries.\n",
        "import numpy as np\n",
        "import tensorflow as tf\n",
        "import sklearn as sk\n",
        "import matplotlib.pyplot as plt\n",
        "\n",
        "from tensorflow.keras.layers     import *\n",
        "from tensorflow.keras.optimizers import *\n",
        "from tensorflow.keras.utils      import to_categorical\n",
        "from tensorflow.keras            import Sequential\n",
        "\n",
        "from tensorflow.keras.callbacks   import LearningRateScheduler\n",
        "from tensorflow_addons.optimizers import CyclicalLearningRate\n"
      ]
    },
    {
      "cell_type": "code",
      "execution_count": null,
      "metadata": {
        "id": "MG4ONXLazNgH"
      },
      "outputs": [],
      "source": [
        "# We load the MNIST dataset.\n",
        "mnist = np.genfromtxt('./sample_data/mnist_train_small.csv', delimiter=',')\n",
        "\n",
        "# Separate the labels from the images.\n",
        "X = mnist[:, 1:]\n",
        "Y = mnist[:, 0:1]\n",
        "\n",
        "# We scale the data and One-Hot Encoding the output.\n",
        "Xn = X / 255\n",
        "Yn = to_categorical(Y)\n",
        "\n",
        "# We use Sklearn's data splitter to train/test\n",
        "from sklearn.model_selection import train_test_split\n",
        "\n",
        "# Partition train/test split to monitor overfitting.\n",
        "X_train, X_test, Y_train, Y_test = train_test_split(Xn, Yn, test_size=0.3)"
      ]
    },
    {
      "cell_type": "code",
      "execution_count": null,
      "metadata": {
        "id": "lGhBVGXLzNdg"
      },
      "outputs": [],
      "source": [
        "# Organize the data in the form of tensors.\n",
        "X_train = X_train.reshape(14000, 28, 28, 1)\n",
        "X_test = X_test.reshape(6000, 28, 28, 1)"
      ]
    },
    {
      "cell_type": "code",
      "execution_count": null,
      "metadata": {
        "colab": {
          "base_uri": "https://localhost:8080/"
        },
        "id": "Z2Bg5xPkzNbK",
        "outputId": "fc14452e-2c74-4c98-97dc-a21deb611dab"
      },
      "outputs": [
        {
          "name": "stdout",
          "output_type": "stream",
          "text": [
            "Epoch 1/25\n",
            "1750/1750 [==============================] - 17s 9ms/step - loss: 0.0378 - acc: 0.7118 - val_loss: 0.0124 - val_acc: 0.9190\n",
            "Epoch 2/25\n",
            "1750/1750 [==============================] - 16s 9ms/step - loss: 0.0098 - acc: 0.9358 - val_loss: 0.0086 - val_acc: 0.9425\n",
            "Epoch 3/25\n",
            "1750/1750 [==============================] - 19s 11ms/step - loss: 0.0069 - acc: 0.9544 - val_loss: 0.0068 - val_acc: 0.9552\n",
            "Epoch 4/25\n",
            "1750/1750 [==============================] - 16s 9ms/step - loss: 0.0053 - acc: 0.9669 - val_loss: 0.0059 - val_acc: 0.9607\n",
            "Epoch 5/25\n",
            "1750/1750 [==============================] - 15s 9ms/step - loss: 0.0046 - acc: 0.9699 - val_loss: 0.0057 - val_acc: 0.9638\n",
            "Epoch 6/25\n",
            "1750/1750 [==============================] - 16s 9ms/step - loss: 0.0038 - acc: 0.9749 - val_loss: 0.0055 - val_acc: 0.9635\n",
            "Epoch 7/25\n",
            "1750/1750 [==============================] - 15s 9ms/step - loss: 0.0031 - acc: 0.9805 - val_loss: 0.0052 - val_acc: 0.9668\n",
            "Epoch 8/25\n",
            "1750/1750 [==============================] - 15s 8ms/step - loss: 0.0029 - acc: 0.9817 - val_loss: 0.0050 - val_acc: 0.9680\n",
            "Epoch 9/25\n",
            "1750/1750 [==============================] - 15s 9ms/step - loss: 0.0026 - acc: 0.9835 - val_loss: 0.0050 - val_acc: 0.9688\n",
            "Epoch 10/25\n",
            "1750/1750 [==============================] - 15s 9ms/step - loss: 0.0025 - acc: 0.9840 - val_loss: 0.0050 - val_acc: 0.9687\n",
            "Epoch 11/25\n",
            "1750/1750 [==============================] - 15s 8ms/step - loss: 0.0021 - acc: 0.9869 - val_loss: 0.0044 - val_acc: 0.9728\n",
            "Epoch 12/25\n",
            "1750/1750 [==============================] - 15s 9ms/step - loss: 0.0019 - acc: 0.9887 - val_loss: 0.0047 - val_acc: 0.9717\n",
            "Epoch 13/25\n",
            "1750/1750 [==============================] - 16s 9ms/step - loss: 0.0018 - acc: 0.9888 - val_loss: 0.0042 - val_acc: 0.9735\n",
            "Epoch 14/25\n",
            "1750/1750 [==============================] - 15s 9ms/step - loss: 0.0014 - acc: 0.9917 - val_loss: 0.0045 - val_acc: 0.9723\n",
            "Epoch 15/25\n",
            "1750/1750 [==============================] - 16s 9ms/step - loss: 0.0013 - acc: 0.9919 - val_loss: 0.0042 - val_acc: 0.9747\n",
            "Epoch 16/25\n",
            "1750/1750 [==============================] - 15s 9ms/step - loss: 0.0011 - acc: 0.9934 - val_loss: 0.0048 - val_acc: 0.9720\n",
            "Epoch 17/25\n",
            "1750/1750 [==============================] - 16s 9ms/step - loss: 0.0011 - acc: 0.9937 - val_loss: 0.0043 - val_acc: 0.9727\n",
            "Epoch 18/25\n",
            "1750/1750 [==============================] - 15s 9ms/step - loss: 0.0010 - acc: 0.9941 - val_loss: 0.0045 - val_acc: 0.9725\n",
            "Epoch 19/25\n",
            "1750/1750 [==============================] - 15s 9ms/step - loss: 0.0012 - acc: 0.9922 - val_loss: 0.0053 - val_acc: 0.9672\n",
            "Epoch 20/25\n",
            "1750/1750 [==============================] - 15s 9ms/step - loss: 9.0775e-04 - acc: 0.9946 - val_loss: 0.0047 - val_acc: 0.9720\n",
            "Epoch 21/25\n",
            "1750/1750 [==============================] - 16s 9ms/step - loss: 7.0533e-04 - acc: 0.9963 - val_loss: 0.0042 - val_acc: 0.9738\n",
            "Epoch 22/25\n",
            "1750/1750 [==============================] - 16s 9ms/step - loss: 6.0262e-04 - acc: 0.9967 - val_loss: 0.0040 - val_acc: 0.9768\n",
            "Epoch 23/25\n",
            "1750/1750 [==============================] - 16s 9ms/step - loss: 6.1470e-04 - acc: 0.9967 - val_loss: 0.0040 - val_acc: 0.9755\n",
            "Epoch 24/25\n",
            "1750/1750 [==============================] - 16s 9ms/step - loss: 5.2136e-04 - acc: 0.9972 - val_loss: 0.0041 - val_acc: 0.9748\n",
            "Epoch 25/25\n",
            "1750/1750 [==============================] - 15s 9ms/step - loss: 4.9858e-04 - acc: 0.9974 - val_loss: 0.0039 - val_acc: 0.9767\n"
          ]
        }
      ],
      "source": [
        "# Constant Learning Rate\n",
        "\n",
        "# Create the model.\n",
        "model_uno = Sequential()\n",
        "\n",
        "# Create the first convolutional layer.\n",
        "model_uno.add(Conv2D(filters=16, kernel_size=3, activation='relu', input_shape=(28, 28, 1)))\n",
        "\n",
        "# Add a layer of MaxPooling.\n",
        "model_uno.add(MaxPooling2D())\n",
        "\n",
        "# We create the second convolutional layer.\n",
        "model_uno.add(Conv2D(filters=32, kernel_size=3, activation='relu'))\n",
        "\n",
        "# Add a second layer of MaxPooling.\n",
        "model_uno.add(MaxPooling2D())\n",
        "\n",
        "# Create the third convolutional layer.\n",
        "model_uno.add(Conv2D(filters=64, kernel_size=3, activation='relu'))\n",
        "\n",
        "# Add a third layer of MaxPooling.\n",
        "model_uno.add(MaxPooling2D())\n",
        "\n",
        "# We convert the feature maps to vector.\n",
        "model_uno.add(Flatten())\n",
        "\n",
        "# We create the last layer with Dense connections.\n",
        "model_uno.add(Dense(units=10, activation='softmax'))\n",
        "\n",
        "model_uno.compile(optimizer=SGD(learning_rate=0.5), \n",
        "              loss=\"mse\",\n",
        "              metrics=[\"acc\"])\n",
        "\n",
        "\n",
        "# ---- MODEL TRAINING ---- #\n",
        "hist1 = model_uno.fit(X_train, Y_train, validation_data=(X_test, Y_test), batch_size=8, epochs=25)"
      ]
    },
    {
      "cell_type": "code",
      "execution_count": null,
      "metadata": {
        "colab": {
          "base_uri": "https://localhost:8080/"
        },
        "id": "FjBrNqCrzNYn",
        "outputId": "e484d5e7-52f8-4c39-f624-111065108387"
      },
      "outputs": [
        {
          "name": "stdout",
          "output_type": "stream",
          "text": [
            "Epoch 1/25\n",
            "1750/1750 [==============================] - 17s 9ms/step - loss: 0.0364 - acc: 0.7141 - val_loss: 0.0146 - val_acc: 0.9043 - lr: 0.5000\n",
            "Epoch 2/25\n",
            "1750/1750 [==============================] - 16s 9ms/step - loss: 0.0102 - acc: 0.9334 - val_loss: 0.0087 - val_acc: 0.9453 - lr: 0.4950\n",
            "Epoch 3/25\n",
            "1750/1750 [==============================] - 15s 9ms/step - loss: 0.0073 - acc: 0.9518 - val_loss: 0.0070 - val_acc: 0.9545 - lr: 0.4853\n",
            "Epoch 4/25\n",
            "1750/1750 [==============================] - 16s 9ms/step - loss: 0.0058 - acc: 0.9618 - val_loss: 0.0061 - val_acc: 0.9605 - lr: 0.4712\n",
            "Epoch 5/25\n",
            "1750/1750 [==============================] - 16s 9ms/step - loss: 0.0045 - acc: 0.9704 - val_loss: 0.0053 - val_acc: 0.9660 - lr: 0.4531\n",
            "Epoch 6/25\n",
            "1750/1750 [==============================] - 16s 9ms/step - loss: 0.0038 - acc: 0.9756 - val_loss: 0.0054 - val_acc: 0.9667 - lr: 0.4315\n",
            "Epoch 7/25\n",
            "1750/1750 [==============================] - 18s 10ms/step - loss: 0.0032 - acc: 0.9792 - val_loss: 0.0050 - val_acc: 0.9678 - lr: 0.4071\n",
            "Epoch 8/25\n",
            "1750/1750 [==============================] - 15s 9ms/step - loss: 0.0028 - acc: 0.9818 - val_loss: 0.0045 - val_acc: 0.9708 - lr: 0.3805\n",
            "Epoch 9/25\n",
            "1750/1750 [==============================] - 16s 9ms/step - loss: 0.0024 - acc: 0.9852 - val_loss: 0.0047 - val_acc: 0.9698 - lr: 0.3523\n",
            "Epoch 10/25\n",
            "1750/1750 [==============================] - 16s 9ms/step - loss: 0.0020 - acc: 0.9877 - val_loss: 0.0045 - val_acc: 0.9703 - lr: 0.3232\n",
            "Epoch 11/25\n",
            "1750/1750 [==============================] - 15s 9ms/step - loss: 0.0018 - acc: 0.9896 - val_loss: 0.0050 - val_acc: 0.9680 - lr: 0.2938\n",
            "Epoch 12/25\n",
            "1750/1750 [==============================] - 16s 9ms/step - loss: 0.0014 - acc: 0.9919 - val_loss: 0.0042 - val_acc: 0.9735 - lr: 0.2647\n",
            "Epoch 13/25\n",
            "1750/1750 [==============================] - 18s 11ms/step - loss: 0.0012 - acc: 0.9932 - val_loss: 0.0041 - val_acc: 0.9753 - lr: 0.2363\n",
            "Epoch 14/25\n",
            "1750/1750 [==============================] - 16s 9ms/step - loss: 0.0011 - acc: 0.9944 - val_loss: 0.0044 - val_acc: 0.9718 - lr: 0.2091\n",
            "Epoch 15/25\n",
            "1750/1750 [==============================] - 16s 9ms/step - loss: 8.9456e-04 - acc: 0.9951 - val_loss: 0.0041 - val_acc: 0.9747 - lr: 0.1835\n",
            "Epoch 16/25\n",
            "1750/1750 [==============================] - 16s 9ms/step - loss: 7.4119e-04 - acc: 0.9961 - val_loss: 0.0041 - val_acc: 0.9747 - lr: 0.1595\n",
            "Epoch 17/25\n",
            "1750/1750 [==============================] - 16s 9ms/step - loss: 6.9121e-04 - acc: 0.9964 - val_loss: 0.0039 - val_acc: 0.9752 - lr: 0.1375\n",
            "Epoch 18/25\n",
            "1750/1750 [==============================] - 15s 9ms/step - loss: 6.3394e-04 - acc: 0.9968 - val_loss: 0.0040 - val_acc: 0.9745 - lr: 0.1175\n",
            "Epoch 19/25\n",
            "1750/1750 [==============================] - 17s 10ms/step - loss: 5.9518e-04 - acc: 0.9969 - val_loss: 0.0040 - val_acc: 0.9737 - lr: 0.0996\n",
            "Epoch 20/25\n",
            "1750/1750 [==============================] - 16s 9ms/step - loss: 5.8232e-04 - acc: 0.9970 - val_loss: 0.0040 - val_acc: 0.9745 - lr: 0.0837\n",
            "Epoch 21/25\n",
            "1750/1750 [==============================] - 15s 9ms/step - loss: 5.7186e-04 - acc: 0.9970 - val_loss: 0.0040 - val_acc: 0.9743 - lr: 0.0698\n",
            "Epoch 22/25\n",
            "1750/1750 [==============================] - 16s 9ms/step - loss: 5.6276e-04 - acc: 0.9970 - val_loss: 0.0040 - val_acc: 0.9740 - lr: 0.0576\n",
            "Epoch 23/25\n",
            "1750/1750 [==============================] - 16s 9ms/step - loss: 5.5373e-04 - acc: 0.9970 - val_loss: 0.0040 - val_acc: 0.9738 - lr: 0.0473\n",
            "Epoch 24/25\n",
            "1750/1750 [==============================] - 16s 9ms/step - loss: 5.4699e-04 - acc: 0.9970 - val_loss: 0.0040 - val_acc: 0.9743 - lr: 0.0384\n",
            "Epoch 25/25\n",
            "1750/1750 [==============================] - 15s 9ms/step - loss: 5.4067e-04 - acc: 0.9970 - val_loss: 0.0040 - val_acc: 0.9742 - lr: 0.0310\n"
          ]
        }
      ],
      "source": [
        "# Learning Rate Step-Decay\n",
        "from tensorflow.keras.callbacks import LearningRateScheduler\n",
        "\n",
        "# Create the model.\n",
        "model_dos = Sequential()\n",
        "\n",
        "# Create the first convolutional layer.\n",
        "model_dos.add(Conv2D(filters=16, kernel_size=3, activation='relu', input_shape=(28, 28, 1)))\n",
        "\n",
        "# Add a layer of MaxPooling.\n",
        "model_dos.add(MaxPooling2D())\n",
        "\n",
        "# We create the second convolutional layer.\n",
        "model_dos.add(Conv2D(filters=32, kernel_size=3, activation='relu'))\n",
        "\n",
        "# Add a second layer of MaxPooling.\n",
        "model_dos.add(MaxPooling2D())\n",
        "\n",
        "# Create the third convolutional layer.\n",
        "model_dos.add(Conv2D(filters=64, kernel_size=3, activation='relu'))\n",
        "\n",
        "# Add a third layer of MaxPooling.\n",
        "model_dos.add(MaxPooling2D())\n",
        "\n",
        "# We convert the feature maps to vector.\n",
        "model_dos.add(Flatten())\n",
        "\n",
        "# We create the last layer with Dense connections.\n",
        "model_dos.add(Dense(units=10, activation='softmax'))\n",
        "\n",
        "# We create a method that receives as input what is the time and the\n",
        "# current learning ratio, and which returns its update.\n",
        "\n",
        "def scheduler(epoch, lr):\n",
        "    return lr * 1 / (1 + 0.01 * epoch)\n",
        "\n",
        "# Now we configure a callback that will be used by the scheduler we have created.\n",
        "planificador = LearningRateScheduler(scheduler)\n",
        "\n",
        "# We configure the model, with the possibility of setting an initial learning_rate\n",
        "# that will be modified after each epoch as planned.\n",
        "model_dos.compile(optimizer=SGD(learning_rate=0.5),\n",
        "                loss=\"mse\",\n",
        "                metrics=[\"acc\"])\n",
        "\n",
        "# ---- MODEL TRAINING ---- #\n",
        "\n",
        "# The last step will be to tell the training method what the callback is\n",
        "# that we have created to vary the learning ratio.\n",
        "hist2 = model_dos.fit(X_train, Y_train, validation_data=(X_test, Y_test), batch_size=8, callbacks=[planificador], epochs=25)"
      ]
    },
    {
      "cell_type": "code",
      "execution_count": null,
      "metadata": {
        "colab": {
          "base_uri": "https://localhost:8080/",
          "height": 295
        },
        "id": "vlyZjB2wzNWc",
        "outputId": "4586e174-b261-4812-d7aa-dabcbaf84069"
      },
      "outputs": [
        {
          "data": {
            "image/png": "[encoded data removed]",
            "text/plain": [
              "<Figure size 432x288 with 1 Axes>"
            ]
          },
          "metadata": {
            "needs_background": "light"
          },
          "output_type": "display_data"
        }
      ],
      "source": [
        "# Cyclic Learning Rate.\n",
        "from tensorflow_addons.optimizers import CyclicalLearningRate\n",
        "\n",
        "# Batch size hyperparameter.\n",
        "batch_size = 8\n",
        "\n",
        "# Number of steps that are fulfilled per epoch.\n",
        "steps_per_epoch = len(X_train) // batch_size\n",
        "\n",
        "\n",
        "# ---- MODEL CONFIGURATION ---- #\n",
        "\n",
        "clr = CyclicalLearningRate(initial_learning_rate=0.05,\n",
        "                           maximal_learning_rate=0.5,\n",
        "                           step_size= 4 * steps_per_epoch,\n",
        "                           scale_fn= lambda x: 1/(2**(x-1)))\n",
        "\n",
        "\n",
        "# We visualize the evolution of the Learning Rate.\n",
        "step = np.arange(0, 25 * steps_per_epoch)\n",
        "lr = clr(step)\n",
        "plt.plot(step, lr)\n",
        "plt.xlabel(\"Steps\")\n",
        "plt.ylabel(\"Learning Rate\")\n",
        "plt.title(\"Evolución de LR\")\n",
        "plt.show()"
      ]
    },
    {
      "cell_type": "code",
      "execution_count": null,
      "metadata": {
        "id": "C3aFxy4BzNTy"
      },
      "outputs": [],
      "source": [
        "# Create the model.\n",
        "model_tres = Sequential()\n",
        "\n",
        "# Create the first convolutional layer.\n",
        "model_tres.add(Conv2D(filters=16, kernel_size=3, activation='relu', input_shape=(28, 28, 1)))\n",
        "\n",
        "# Add a layer of MaxPooling.\n",
        "model_tres.add(MaxPooling2D())\n",
        "\n",
        "# We create the second convolutional layer.\n",
        "model_tres.add(Conv2D(filters=32, kernel_size=3, activation='relu'))\n",
        "\n",
        "# Add a second layer of MaxPooling.\n",
        "model_tres.add(MaxPooling2D())\n",
        "\n",
        "# Create the third convolutional layer\n",
        "model_tres.add(Conv2D(filters=64, kernel_size=3, activation='relu'))\n",
        "\n",
        "# Add a third layer of MaxPooling.\n",
        "model_tres.add(MaxPooling2D())\n",
        "\n",
        "# We convert the feature maps to vector.\n",
        "model_tres.add(Flatten())\n",
        "\n",
        "# We create the last layer with Dense connections.\n",
        "model_tres.add(Dense(units=10, activation='softmax'))\n",
        "\n"
      ]
    },
    {
      "cell_type": "code",
      "execution_count": null,
      "metadata": {
        "colab": {
          "base_uri": "https://localhost:8080/"
        },
        "id": "asq6RX0GMX5L",
        "outputId": "4bad7b12-f4c9-440d-907e-1e8322e3cf68"
      },
      "outputs": [
        {
          "name": "stdout",
          "output_type": "stream",
          "text": [
            "Epoch 1/25\n",
            "1750/1750 [==============================] - 18s 10ms/step - loss: 0.0793 - acc: 0.3590 - val_loss: 0.0349 - val_acc: 0.7568\n",
            "Epoch 2/25\n",
            "1750/1750 [==============================] - 17s 9ms/step - loss: 0.0218 - acc: 0.8530 - val_loss: 0.0145 - val_acc: 0.9023\n",
            "Epoch 3/25\n",
            "1750/1750 [==============================] - 16s 9ms/step - loss: 0.0121 - acc: 0.9190 - val_loss: 0.0096 - val_acc: 0.9392\n",
            "Epoch 4/25\n",
            "1750/1750 [==============================] - 17s 10ms/step - loss: 0.0086 - acc: 0.9421 - val_loss: 0.0079 - val_acc: 0.9492\n",
            "Epoch 5/25\n",
            "1750/1750 [==============================] - 16s 9ms/step - loss: 0.0065 - acc: 0.9568 - val_loss: 0.0075 - val_acc: 0.9530\n",
            "Epoch 6/25\n",
            "1750/1750 [==============================] - 17s 9ms/step - loss: 0.0047 - acc: 0.9695 - val_loss: 0.0053 - val_acc: 0.9653\n",
            "Epoch 7/25\n",
            "1750/1750 [==============================] - 16s 9ms/step - loss: 0.0034 - acc: 0.9782 - val_loss: 0.0053 - val_acc: 0.9665\n",
            "Epoch 8/25\n",
            "1750/1750 [==============================] - 16s 9ms/step - loss: 0.0026 - acc: 0.9849 - val_loss: 0.0045 - val_acc: 0.9722\n",
            "Epoch 9/25\n",
            "1750/1750 [==============================] - 19s 11ms/step - loss: 0.0022 - acc: 0.9873 - val_loss: 0.0046 - val_acc: 0.9713\n",
            "Epoch 10/25\n",
            "1750/1750 [==============================] - 16s 9ms/step - loss: 0.0023 - acc: 0.9869 - val_loss: 0.0048 - val_acc: 0.9702\n",
            "Epoch 11/25\n",
            "1750/1750 [==============================] - 19s 11ms/step - loss: 0.0024 - acc: 0.9857 - val_loss: 0.0048 - val_acc: 0.9687\n",
            "Epoch 12/25\n",
            "1750/1750 [==============================] - 16s 9ms/step - loss: 0.0025 - acc: 0.9846 - val_loss: 0.0046 - val_acc: 0.9713\n",
            "Epoch 13/25\n",
            "1750/1750 [==============================] - 16s 9ms/step - loss: 0.0023 - acc: 0.9867 - val_loss: 0.0045 - val_acc: 0.9710\n",
            "Epoch 14/25\n",
            "1750/1750 [==============================] - 17s 9ms/step - loss: 0.0018 - acc: 0.9893 - val_loss: 0.0042 - val_acc: 0.9738\n",
            "Epoch 15/25\n",
            "1750/1750 [==============================] - 16s 9ms/step - loss: 0.0014 - acc: 0.9923 - val_loss: 0.0043 - val_acc: 0.9742\n",
            "Epoch 16/25\n",
            "1750/1750 [==============================] - 16s 9ms/step - loss: 0.0011 - acc: 0.9941 - val_loss: 0.0041 - val_acc: 0.9757\n",
            "Epoch 17/25\n",
            "1750/1750 [==============================] - 17s 10ms/step - loss: 0.0010 - acc: 0.9947 - val_loss: 0.0041 - val_acc: 0.9758\n",
            "Epoch 18/25\n",
            "1750/1750 [==============================] - 16s 9ms/step - loss: 0.0010 - acc: 0.9944 - val_loss: 0.0041 - val_acc: 0.9750\n",
            "Epoch 19/25\n",
            "1750/1750 [==============================] - 17s 10ms/step - loss: 0.0010 - acc: 0.9946 - val_loss: 0.0043 - val_acc: 0.9740\n",
            "Epoch 20/25\n",
            "1750/1750 [==============================] - 16s 9ms/step - loss: 0.0011 - acc: 0.9939 - val_loss: 0.0041 - val_acc: 0.9745\n",
            "Epoch 21/25\n",
            "1750/1750 [==============================] - 16s 9ms/step - loss: 0.0010 - acc: 0.9947 - val_loss: 0.0041 - val_acc: 0.9752\n",
            "Epoch 22/25\n",
            "1750/1750 [==============================] - 19s 11ms/step - loss: 8.8901e-04 - acc: 0.9954 - val_loss: 0.0041 - val_acc: 0.9755\n",
            "Epoch 23/25\n",
            "1750/1750 [==============================] - 16s 9ms/step - loss: 7.8770e-04 - acc: 0.9956 - val_loss: 0.0041 - val_acc: 0.9742\n",
            "Epoch 24/25\n",
            "1750/1750 [==============================] - 19s 11ms/step - loss: 7.0395e-04 - acc: 0.9962 - val_loss: 0.0041 - val_acc: 0.9748\n",
            "Epoch 25/25\n",
            "1750/1750 [==============================] - 16s 9ms/step - loss: 6.7151e-04 - acc: 0.9966 - val_loss: 0.0041 - val_acc: 0.9753\n"
          ]
        }
      ],
      "source": [
        "# ---- COMPILE MODEL ---- #\n",
        "\n",
        "model_tres.compile(optimizer=SGD(learning_rate=clr),\n",
        "                loss=\"mse\",\n",
        "                metrics=[\"acc\"])\n",
        "\n",
        "hist3 = model_tres.fit(X_train, Y_train, validation_data=(X_test, Y_test), batch_size=8, epochs=25)"
      ]
    },
    {
      "cell_type": "code",
      "execution_count": null,
      "metadata": {
        "colab": {
          "base_uri": "https://localhost:8080/",
          "height": 279
        },
        "id": "ZMS-BO1hzNQo",
        "outputId": "ef319a0b-c6c8-45ad-908b-3f74b145fa45"
      },
      "outputs": [
        {
          "data": {
            "image/png": "[encoded data removed]",
            "text/plain": [
              "<Figure size 432x288 with 1 Axes>"
            ]
          },
          "metadata": {
            "needs_background": "light"
          },
          "output_type": "display_data"
        }
      ],
      "source": [
        "# Visualize in a graph the evolution of the validation loss for the three models.\n",
        "\n",
        "# We visualize the progression of the loss during the training.\n",
        "plt.plot(np.arange(len(hist1.history['val_loss'])), hist1.history['val_loss'])\n",
        "plt.plot(np.arange(len(hist2.history['val_loss'])), hist2.history['val_loss'])\n",
        "plt.plot(np.arange(len(hist3.history['val_loss'])), hist3.history['val_loss'])\n",
        "\n",
        "# We add information to the graphs.\n",
        "plt.xlabel(\"Epochs\")\n",
        "plt.ylabel(\"Loss\")\n",
        "plt.legend(['Learning Rate Constante', 'Learning Rate Step-Decay', 'Learning Rate Cíclico'])\n",
        "plt.show()"
      ]
    }
  ],
  "metadata": {
    "colab": {
      "provenance": []
    },
    "kernelspec": {
      "display_name": "Python 3",
      "name": "python3"
    },
    "language_info": {
      "name": "python"
    }
  },
  "nbformat": 4,
  "nbformat_minor": 0
}
